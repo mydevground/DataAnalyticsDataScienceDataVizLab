{
  "nbformat": 4,
  "nbformat_minor": 0,
  "metadata": {
    "colab": {
      "name": "py_ML_Intro.ipynb",
      "provenance": [],
      "authorship_tag": "ABX9TyNhvQmUF88vPAdsvemyLW7K",
      "include_colab_link": true
    },
    "kernelspec": {
      "name": "python3",
      "display_name": "Python 3"
    }
  },
  "cells": [
    {
      "cell_type": "markdown",
      "metadata": {
        "id": "view-in-github",
        "colab_type": "text"
      },
      "source": [
        "<a href=\"https://colab.research.google.com/github/mydevground/DataScienceLab/blob/main/py_ML_Intro.ipynb\" target=\"_parent\"><img src=\"https://colab.research.google.com/assets/colab-badge.svg\" alt=\"Open In Colab\"/></a>"
      ]
    },
    {
      "cell_type": "code",
      "metadata": {
        "id": "E7WGmRrIU2tF"
      },
      "source": [
        "import numpy as np\n",
        "import pandas as pd\n",
        "import matplotlib.pyplot as plt\n",
        "import seaborn as sns"
      ],
      "execution_count": 1,
      "outputs": []
    },
    {
      "cell_type": "code",
      "metadata": {
        "colab": {
          "base_uri": "https://localhost:8080/",
          "height": 206
        },
        "id": "j8Ols_r6t1dq",
        "outputId": "34404007-6501-4611-8031-6b0f0af70cdb"
      },
      "source": [
        "#create dataframe and load data for preview\n",
        "data = pd.read_csv(\"https://raw.githubusercontent.com/dphi-official/Datasets/master/liver_patient_data/indian_liver_patient_dataset.csv\")\n",
        "data.head()"
      ],
      "execution_count": 2,
      "outputs": [
        {
          "output_type": "execute_result",
          "data": {
            "text/html": [
              "<div>\n",
              "<style scoped>\n",
              "    .dataframe tbody tr th:only-of-type {\n",
              "        vertical-align: middle;\n",
              "    }\n",
              "\n",
              "    .dataframe tbody tr th {\n",
              "        vertical-align: top;\n",
              "    }\n",
              "\n",
              "    .dataframe thead th {\n",
              "        text-align: right;\n",
              "    }\n",
              "</style>\n",
              "<table border=\"1\" class=\"dataframe\">\n",
              "  <thead>\n",
              "    <tr style=\"text-align: right;\">\n",
              "      <th></th>\n",
              "      <th>Age</th>\n",
              "      <th>Gender</th>\n",
              "      <th>Total_Bilirubin</th>\n",
              "      <th>Direct_Bilirubin</th>\n",
              "      <th>Alkaline_Phosphotase</th>\n",
              "      <th>Alamine_Aminotransferase</th>\n",
              "      <th>Aspartate_Aminotransferase</th>\n",
              "      <th>Total_Protiens</th>\n",
              "      <th>Albumin</th>\n",
              "      <th>Albumin_and_Globulin_Ratio</th>\n",
              "      <th>Liver_Problem</th>\n",
              "    </tr>\n",
              "  </thead>\n",
              "  <tbody>\n",
              "    <tr>\n",
              "      <th>0</th>\n",
              "      <td>65</td>\n",
              "      <td>Female</td>\n",
              "      <td>0.7</td>\n",
              "      <td>0.1</td>\n",
              "      <td>187</td>\n",
              "      <td>16</td>\n",
              "      <td>18</td>\n",
              "      <td>6.8</td>\n",
              "      <td>3.3</td>\n",
              "      <td>0.90</td>\n",
              "      <td>1</td>\n",
              "    </tr>\n",
              "    <tr>\n",
              "      <th>1</th>\n",
              "      <td>62</td>\n",
              "      <td>Male</td>\n",
              "      <td>10.9</td>\n",
              "      <td>5.5</td>\n",
              "      <td>699</td>\n",
              "      <td>64</td>\n",
              "      <td>100</td>\n",
              "      <td>7.5</td>\n",
              "      <td>3.2</td>\n",
              "      <td>0.74</td>\n",
              "      <td>1</td>\n",
              "    </tr>\n",
              "    <tr>\n",
              "      <th>2</th>\n",
              "      <td>62</td>\n",
              "      <td>Male</td>\n",
              "      <td>7.3</td>\n",
              "      <td>4.1</td>\n",
              "      <td>490</td>\n",
              "      <td>60</td>\n",
              "      <td>68</td>\n",
              "      <td>7.0</td>\n",
              "      <td>3.3</td>\n",
              "      <td>0.89</td>\n",
              "      <td>1</td>\n",
              "    </tr>\n",
              "    <tr>\n",
              "      <th>3</th>\n",
              "      <td>58</td>\n",
              "      <td>Male</td>\n",
              "      <td>1.0</td>\n",
              "      <td>0.4</td>\n",
              "      <td>182</td>\n",
              "      <td>14</td>\n",
              "      <td>20</td>\n",
              "      <td>6.8</td>\n",
              "      <td>3.4</td>\n",
              "      <td>1.00</td>\n",
              "      <td>1</td>\n",
              "    </tr>\n",
              "    <tr>\n",
              "      <th>4</th>\n",
              "      <td>72</td>\n",
              "      <td>Male</td>\n",
              "      <td>3.9</td>\n",
              "      <td>2.0</td>\n",
              "      <td>195</td>\n",
              "      <td>27</td>\n",
              "      <td>59</td>\n",
              "      <td>7.3</td>\n",
              "      <td>2.4</td>\n",
              "      <td>0.40</td>\n",
              "      <td>1</td>\n",
              "    </tr>\n",
              "  </tbody>\n",
              "</table>\n",
              "</div>"
            ],
            "text/plain": [
              "   Age  Gender  ...  Albumin_and_Globulin_Ratio  Liver_Problem\n",
              "0   65  Female  ...                        0.90              1\n",
              "1   62    Male  ...                        0.74              1\n",
              "2   62    Male  ...                        0.89              1\n",
              "3   58    Male  ...                        1.00              1\n",
              "4   72    Male  ...                        0.40              1\n",
              "\n",
              "[5 rows x 11 columns]"
            ]
          },
          "metadata": {},
          "execution_count": 2
        }
      ]
    },
    {
      "cell_type": "code",
      "metadata": {
        "colab": {
          "base_uri": "https://localhost:8080/"
        },
        "id": "Z1M1jlegJIgy",
        "outputId": "3fe541e1-1fa1-4976-87fd-54d91caac752"
      },
      "source": [
        "data.info() #data information"
      ],
      "execution_count": 3,
      "outputs": [
        {
          "output_type": "stream",
          "name": "stdout",
          "text": [
            "<class 'pandas.core.frame.DataFrame'>\n",
            "RangeIndex: 500 entries, 0 to 499\n",
            "Data columns (total 11 columns):\n",
            " #   Column                      Non-Null Count  Dtype  \n",
            "---  ------                      --------------  -----  \n",
            " 0   Age                         500 non-null    int64  \n",
            " 1   Gender                      500 non-null    object \n",
            " 2   Total_Bilirubin             500 non-null    float64\n",
            " 3   Direct_Bilirubin            500 non-null    float64\n",
            " 4   Alkaline_Phosphotase        500 non-null    int64  \n",
            " 5   Alamine_Aminotransferase    500 non-null    int64  \n",
            " 6   Aspartate_Aminotransferase  500 non-null    int64  \n",
            " 7   Total_Protiens              500 non-null    float64\n",
            " 8   Albumin                     500 non-null    float64\n",
            " 9   Albumin_and_Globulin_Ratio  496 non-null    float64\n",
            " 10  Liver_Problem               500 non-null    int64  \n",
            "dtypes: float64(5), int64(5), object(1)\n",
            "memory usage: 43.1+ KB\n"
          ]
        }
      ]
    },
    {
      "cell_type": "code",
      "metadata": {
        "colab": {
          "base_uri": "https://localhost:8080/"
        },
        "id": "LTwho9MkKXRN",
        "outputId": "b90af702-3106-47cf-ccf5-18464a9d722d"
      },
      "source": [
        "data.isnull().sum() #find columns with missing values ()"
      ],
      "execution_count": 4,
      "outputs": [
        {
          "output_type": "execute_result",
          "data": {
            "text/plain": [
              "Age                           0\n",
              "Gender                        0\n",
              "Total_Bilirubin               0\n",
              "Direct_Bilirubin              0\n",
              "Alkaline_Phosphotase          0\n",
              "Alamine_Aminotransferase      0\n",
              "Aspartate_Aminotransferase    0\n",
              "Total_Protiens                0\n",
              "Albumin                       0\n",
              "Albumin_and_Globulin_Ratio    4\n",
              "Liver_Problem                 0\n",
              "dtype: int64"
            ]
          },
          "metadata": {},
          "execution_count": 4
        }
      ]
    },
    {
      "cell_type": "code",
      "metadata": {
        "id": "cV27J6HGMtle"
      },
      "source": [
        "data1 = data.copy() #make a copy before we clean up nulls/blanks"
      ],
      "execution_count": 5,
      "outputs": []
    },
    {
      "cell_type": "code",
      "metadata": {
        "id": "aXzV34v_NJHC"
      },
      "source": [
        "data['Albumin_and_Globulin_Ratio'].fillna(data['Albumin_and_Globulin_Ratio'].mean(), inplace = True) #fill missing values with mean of the column "
      ],
      "execution_count": 6,
      "outputs": []
    },
    {
      "cell_type": "code",
      "metadata": {
        "colab": {
          "base_uri": "https://localhost:8080/"
        },
        "id": "ca15YcakOW0T",
        "outputId": "c0a16c86-e729-40f3-8390-381c5aa6b5e6"
      },
      "source": [
        "data.isnull().sum() # validate to find columns with missing values gone"
      ],
      "execution_count": 7,
      "outputs": [
        {
          "output_type": "execute_result",
          "data": {
            "text/plain": [
              "Age                           0\n",
              "Gender                        0\n",
              "Total_Bilirubin               0\n",
              "Direct_Bilirubin              0\n",
              "Alkaline_Phosphotase          0\n",
              "Alamine_Aminotransferase      0\n",
              "Aspartate_Aminotransferase    0\n",
              "Total_Protiens                0\n",
              "Albumin                       0\n",
              "Albumin_and_Globulin_Ratio    0\n",
              "Liver_Problem                 0\n",
              "dtype: int64"
            ]
          },
          "metadata": {},
          "execution_count": 7
        }
      ]
    },
    {
      "cell_type": "code",
      "metadata": {
        "id": "qAbLYz3OOe1y"
      },
      "source": [
        "data1.dropna(inplace = True) #another method: remove the rows with no values"
      ],
      "execution_count": 8,
      "outputs": []
    },
    {
      "cell_type": "code",
      "metadata": {
        "colab": {
          "base_uri": "https://localhost:8080/"
        },
        "id": "HEgHpnIyO0c9",
        "outputId": "66f051f0-6d06-47fe-9875-f76fd9356830"
      },
      "source": [
        "data1.isnull().sum() # validate to find columns with missing values gone"
      ],
      "execution_count": 9,
      "outputs": [
        {
          "output_type": "execute_result",
          "data": {
            "text/plain": [
              "Age                           0\n",
              "Gender                        0\n",
              "Total_Bilirubin               0\n",
              "Direct_Bilirubin              0\n",
              "Alkaline_Phosphotase          0\n",
              "Alamine_Aminotransferase      0\n",
              "Aspartate_Aminotransferase    0\n",
              "Total_Protiens                0\n",
              "Albumin                       0\n",
              "Albumin_and_Globulin_Ratio    0\n",
              "Liver_Problem                 0\n",
              "dtype: int64"
            ]
          },
          "metadata": {},
          "execution_count": 9
        }
      ]
    },
    {
      "cell_type": "code",
      "metadata": {
        "colab": {
          "base_uri": "https://localhost:8080/",
          "height": 300
        },
        "id": "eY9_QEI7PZ-i",
        "outputId": "4610f816-c39f-4b90-d0a1-34a0c229746c"
      },
      "source": [
        "data.describe() #generate quick aggragations for the data"
      ],
      "execution_count": 10,
      "outputs": [
        {
          "output_type": "execute_result",
          "data": {
            "text/html": [
              "<div>\n",
              "<style scoped>\n",
              "    .dataframe tbody tr th:only-of-type {\n",
              "        vertical-align: middle;\n",
              "    }\n",
              "\n",
              "    .dataframe tbody tr th {\n",
              "        vertical-align: top;\n",
              "    }\n",
              "\n",
              "    .dataframe thead th {\n",
              "        text-align: right;\n",
              "    }\n",
              "</style>\n",
              "<table border=\"1\" class=\"dataframe\">\n",
              "  <thead>\n",
              "    <tr style=\"text-align: right;\">\n",
              "      <th></th>\n",
              "      <th>Age</th>\n",
              "      <th>Total_Bilirubin</th>\n",
              "      <th>Direct_Bilirubin</th>\n",
              "      <th>Alkaline_Phosphotase</th>\n",
              "      <th>Alamine_Aminotransferase</th>\n",
              "      <th>Aspartate_Aminotransferase</th>\n",
              "      <th>Total_Protiens</th>\n",
              "      <th>Albumin</th>\n",
              "      <th>Albumin_and_Globulin_Ratio</th>\n",
              "      <th>Liver_Problem</th>\n",
              "    </tr>\n",
              "  </thead>\n",
              "  <tbody>\n",
              "    <tr>\n",
              "      <th>count</th>\n",
              "      <td>500.0000</td>\n",
              "      <td>500.000000</td>\n",
              "      <td>500.000000</td>\n",
              "      <td>500.000000</td>\n",
              "      <td>500.000000</td>\n",
              "      <td>500.000000</td>\n",
              "      <td>500.00000</td>\n",
              "      <td>500.000000</td>\n",
              "      <td>500.000000</td>\n",
              "      <td>500.000000</td>\n",
              "    </tr>\n",
              "    <tr>\n",
              "      <th>mean</th>\n",
              "      <td>44.5860</td>\n",
              "      <td>2.603800</td>\n",
              "      <td>1.117200</td>\n",
              "      <td>296.372000</td>\n",
              "      <td>82.736000</td>\n",
              "      <td>108.820000</td>\n",
              "      <td>6.44480</td>\n",
              "      <td>3.168800</td>\n",
              "      <td>0.960907</td>\n",
              "      <td>1.300000</td>\n",
              "    </tr>\n",
              "    <tr>\n",
              "      <th>std</th>\n",
              "      <td>16.5334</td>\n",
              "      <td>5.120238</td>\n",
              "      <td>2.066709</td>\n",
              "      <td>257.461676</td>\n",
              "      <td>194.366775</td>\n",
              "      <td>307.093557</td>\n",
              "      <td>1.08902</td>\n",
              "      <td>0.799741</td>\n",
              "      <td>0.293107</td>\n",
              "      <td>0.458717</td>\n",
              "    </tr>\n",
              "    <tr>\n",
              "      <th>min</th>\n",
              "      <td>4.0000</td>\n",
              "      <td>0.400000</td>\n",
              "      <td>0.100000</td>\n",
              "      <td>63.000000</td>\n",
              "      <td>10.000000</td>\n",
              "      <td>10.000000</td>\n",
              "      <td>2.70000</td>\n",
              "      <td>0.900000</td>\n",
              "      <td>0.300000</td>\n",
              "      <td>1.000000</td>\n",
              "    </tr>\n",
              "    <tr>\n",
              "      <th>25%</th>\n",
              "      <td>32.7500</td>\n",
              "      <td>0.800000</td>\n",
              "      <td>0.200000</td>\n",
              "      <td>175.000000</td>\n",
              "      <td>23.000000</td>\n",
              "      <td>24.750000</td>\n",
              "      <td>5.70000</td>\n",
              "      <td>2.600000</td>\n",
              "      <td>0.800000</td>\n",
              "      <td>1.000000</td>\n",
              "    </tr>\n",
              "    <tr>\n",
              "      <th>50%</th>\n",
              "      <td>45.0000</td>\n",
              "      <td>0.900000</td>\n",
              "      <td>0.300000</td>\n",
              "      <td>205.500000</td>\n",
              "      <td>33.500000</td>\n",
              "      <td>40.000000</td>\n",
              "      <td>6.50000</td>\n",
              "      <td>3.100000</td>\n",
              "      <td>1.000000</td>\n",
              "      <td>1.000000</td>\n",
              "    </tr>\n",
              "    <tr>\n",
              "      <th>75%</th>\n",
              "      <td>58.0000</td>\n",
              "      <td>2.200000</td>\n",
              "      <td>1.000000</td>\n",
              "      <td>298.000000</td>\n",
              "      <td>59.250000</td>\n",
              "      <td>79.250000</td>\n",
              "      <td>7.20000</td>\n",
              "      <td>3.800000</td>\n",
              "      <td>1.100000</td>\n",
              "      <td>2.000000</td>\n",
              "    </tr>\n",
              "    <tr>\n",
              "      <th>max</th>\n",
              "      <td>85.0000</td>\n",
              "      <td>75.000000</td>\n",
              "      <td>14.200000</td>\n",
              "      <td>2110.000000</td>\n",
              "      <td>2000.000000</td>\n",
              "      <td>4929.000000</td>\n",
              "      <td>9.60000</td>\n",
              "      <td>5.500000</td>\n",
              "      <td>1.900000</td>\n",
              "      <td>2.000000</td>\n",
              "    </tr>\n",
              "  </tbody>\n",
              "</table>\n",
              "</div>"
            ],
            "text/plain": [
              "            Age  Total_Bilirubin  ...  Albumin_and_Globulin_Ratio  Liver_Problem\n",
              "count  500.0000       500.000000  ...                  500.000000     500.000000\n",
              "mean    44.5860         2.603800  ...                    0.960907       1.300000\n",
              "std     16.5334         5.120238  ...                    0.293107       0.458717\n",
              "min      4.0000         0.400000  ...                    0.300000       1.000000\n",
              "25%     32.7500         0.800000  ...                    0.800000       1.000000\n",
              "50%     45.0000         0.900000  ...                    1.000000       1.000000\n",
              "75%     58.0000         2.200000  ...                    1.100000       2.000000\n",
              "max     85.0000        75.000000  ...                    1.900000       2.000000\n",
              "\n",
              "[8 rows x 10 columns]"
            ]
          },
          "metadata": {},
          "execution_count": 10
        }
      ]
    },
    {
      "cell_type": "code",
      "metadata": {
        "colab": {
          "base_uri": "https://localhost:8080/",
          "height": 282
        },
        "id": "Eu61H_CcQhHf",
        "outputId": "0ab1e10a-bf35-4300-f0cc-c78c33869a88"
      },
      "source": [
        "plt.scatter(data.Total_Bilirubin, data.Direct_Bilirubin) #scatter plot"
      ],
      "execution_count": 11,
      "outputs": [
        {
          "output_type": "execute_result",
          "data": {
            "text/plain": [
              "<matplotlib.collections.PathCollection at 0x7f9db98817d0>"
            ]
          },
          "metadata": {},
          "execution_count": 11
        },
        {
          "output_type": "display_data",
          "data": {
            "image/png": "[encoded data removed]",
            "text/plain": [
              "<Figure size 432x288 with 1 Axes>"
            ]
          },
          "metadata": {
            "needs_background": "light"
          }
        }
      ]
    },
    {
      "cell_type": "code",
      "metadata": {
        "colab": {
          "base_uri": "https://localhost:8080/",
          "height": 317
        },
        "id": "UmJrz4z4SY3E",
        "outputId": "c263aaeb-570d-4614-fce0-1eedb7d703bd"
      },
      "source": [
        "plt.hist(data.Age) #histogram"
      ],
      "execution_count": 12,
      "outputs": [
        {
          "output_type": "execute_result",
          "data": {
            "text/plain": [
              "(array([ 9., 28., 54., 78., 72., 92., 80., 48., 36.,  3.]),\n",
              " array([ 4. , 12.1, 20.2, 28.3, 36.4, 44.5, 52.6, 60.7, 68.8, 76.9, 85. ]),\n",
              " <a list of 10 Patch objects>)"
            ]
          },
          "metadata": {},
          "execution_count": 12
        },
        {
          "output_type": "display_data",
          "data": {
            "image/png": "[encoded data removed]",
            "text/plain": [
              "<Figure size 432x288 with 1 Axes>"
            ]
          },
          "metadata": {
            "needs_background": "light"
          }
        }
      ]
    },
    {
      "cell_type": "code",
      "metadata": {
        "colab": {
          "base_uri": "https://localhost:8080/",
          "height": 296
        },
        "id": "Dfip7IhpSoOJ",
        "outputId": "9f33a482-a692-4181-e5e6-83311f33cf04"
      },
      "source": [
        "x = data.Age\n",
        "sns.boxplot(x=x) #box plot"
      ],
      "execution_count": 15,
      "outputs": [
        {
          "output_type": "execute_result",
          "data": {
            "text/plain": [
              "<matplotlib.axes._subplots.AxesSubplot at 0x7f9db920ed50>"
            ]
          },
          "metadata": {},
          "execution_count": 15
        },
        {
          "output_type": "display_data",
          "data": {
            "image/png": "[encoded data removed]",
            "text/plain": [
              "<Figure size 432x288 with 1 Axes>"
            ]
          },
          "metadata": {
            "needs_background": "light"
          }
        }
      ]
    },
    {
      "cell_type": "code",
      "metadata": {
        "colab": {
          "base_uri": "https://localhost:8080/",
          "height": 143
        },
        "id": "cxaMw9jWUy_O",
        "outputId": "71d676e4-38f7-492b-f6b7-9b97438dd4fd"
      },
      "source": [
        "is_female = data.Gender == \"Female\"\n",
        "female_data = data[is_female]\n",
        "#female_data.shape\n",
        "female_data.head(3)"
      ],
      "execution_count": 16,
      "outputs": [
        {
          "output_type": "execute_result",
          "data": {
            "text/html": [
              "<div>\n",
              "<style scoped>\n",
              "    .dataframe tbody tr th:only-of-type {\n",
              "        vertical-align: middle;\n",
              "    }\n",
              "\n",
              "    .dataframe tbody tr th {\n",
              "        vertical-align: top;\n",
              "    }\n",
              "\n",
              "    .dataframe thead th {\n",
              "        text-align: right;\n",
              "    }\n",
              "</style>\n",
              "<table border=\"1\" class=\"dataframe\">\n",
              "  <thead>\n",
              "    <tr style=\"text-align: right;\">\n",
              "      <th></th>\n",
              "      <th>Age</th>\n",
              "      <th>Gender</th>\n",
              "      <th>Total_Bilirubin</th>\n",
              "      <th>Direct_Bilirubin</th>\n",
              "      <th>Alkaline_Phosphotase</th>\n",
              "      <th>Alamine_Aminotransferase</th>\n",
              "      <th>Aspartate_Aminotransferase</th>\n",
              "      <th>Total_Protiens</th>\n",
              "      <th>Albumin</th>\n",
              "      <th>Albumin_and_Globulin_Ratio</th>\n",
              "      <th>Liver_Problem</th>\n",
              "    </tr>\n",
              "  </thead>\n",
              "  <tbody>\n",
              "    <tr>\n",
              "      <th>0</th>\n",
              "      <td>65</td>\n",
              "      <td>Female</td>\n",
              "      <td>0.7</td>\n",
              "      <td>0.1</td>\n",
              "      <td>187</td>\n",
              "      <td>16</td>\n",
              "      <td>18</td>\n",
              "      <td>6.8</td>\n",
              "      <td>3.3</td>\n",
              "      <td>0.9</td>\n",
              "      <td>1</td>\n",
              "    </tr>\n",
              "    <tr>\n",
              "      <th>6</th>\n",
              "      <td>26</td>\n",
              "      <td>Female</td>\n",
              "      <td>0.9</td>\n",
              "      <td>0.2</td>\n",
              "      <td>154</td>\n",
              "      <td>16</td>\n",
              "      <td>12</td>\n",
              "      <td>7.0</td>\n",
              "      <td>3.5</td>\n",
              "      <td>1.0</td>\n",
              "      <td>1</td>\n",
              "    </tr>\n",
              "    <tr>\n",
              "      <th>7</th>\n",
              "      <td>29</td>\n",
              "      <td>Female</td>\n",
              "      <td>0.9</td>\n",
              "      <td>0.3</td>\n",
              "      <td>202</td>\n",
              "      <td>14</td>\n",
              "      <td>11</td>\n",
              "      <td>6.7</td>\n",
              "      <td>3.6</td>\n",
              "      <td>1.1</td>\n",
              "      <td>1</td>\n",
              "    </tr>\n",
              "  </tbody>\n",
              "</table>\n",
              "</div>"
            ],
            "text/plain": [
              "   Age  Gender  ...  Albumin_and_Globulin_Ratio  Liver_Problem\n",
              "0   65  Female  ...                         0.9              1\n",
              "6   26  Female  ...                         1.0              1\n",
              "7   29  Female  ...                         1.1              1\n",
              "\n",
              "[3 rows x 11 columns]"
            ]
          },
          "metadata": {},
          "execution_count": 16
        }
      ]
    },
    {
      "cell_type": "code",
      "metadata": {
        "colab": {
          "base_uri": "https://localhost:8080/",
          "height": 143
        },
        "id": "MokyTVAcZdq0",
        "outputId": "0478fc9b-f781-4221-a0b8-e3f5f3e359da"
      },
      "source": [
        "is_male = data[\"Gender\"] == \"Male\"\n",
        "male_data = data[is_male]\n",
        "#male_data.shape\n",
        "male_data.head(3)"
      ],
      "execution_count": 17,
      "outputs": [
        {
          "output_type": "execute_result",
          "data": {
            "text/html": [
              "<div>\n",
              "<style scoped>\n",
              "    .dataframe tbody tr th:only-of-type {\n",
              "        vertical-align: middle;\n",
              "    }\n",
              "\n",
              "    .dataframe tbody tr th {\n",
              "        vertical-align: top;\n",
              "    }\n",
              "\n",
              "    .dataframe thead th {\n",
              "        text-align: right;\n",
              "    }\n",
              "</style>\n",
              "<table border=\"1\" class=\"dataframe\">\n",
              "  <thead>\n",
              "    <tr style=\"text-align: right;\">\n",
              "      <th></th>\n",
              "      <th>Age</th>\n",
              "      <th>Gender</th>\n",
              "      <th>Total_Bilirubin</th>\n",
              "      <th>Direct_Bilirubin</th>\n",
              "      <th>Alkaline_Phosphotase</th>\n",
              "      <th>Alamine_Aminotransferase</th>\n",
              "      <th>Aspartate_Aminotransferase</th>\n",
              "      <th>Total_Protiens</th>\n",
              "      <th>Albumin</th>\n",
              "      <th>Albumin_and_Globulin_Ratio</th>\n",
              "      <th>Liver_Problem</th>\n",
              "    </tr>\n",
              "  </thead>\n",
              "  <tbody>\n",
              "    <tr>\n",
              "      <th>1</th>\n",
              "      <td>62</td>\n",
              "      <td>Male</td>\n",
              "      <td>10.9</td>\n",
              "      <td>5.5</td>\n",
              "      <td>699</td>\n",
              "      <td>64</td>\n",
              "      <td>100</td>\n",
              "      <td>7.5</td>\n",
              "      <td>3.2</td>\n",
              "      <td>0.74</td>\n",
              "      <td>1</td>\n",
              "    </tr>\n",
              "    <tr>\n",
              "      <th>2</th>\n",
              "      <td>62</td>\n",
              "      <td>Male</td>\n",
              "      <td>7.3</td>\n",
              "      <td>4.1</td>\n",
              "      <td>490</td>\n",
              "      <td>60</td>\n",
              "      <td>68</td>\n",
              "      <td>7.0</td>\n",
              "      <td>3.3</td>\n",
              "      <td>0.89</td>\n",
              "      <td>1</td>\n",
              "    </tr>\n",
              "    <tr>\n",
              "      <th>3</th>\n",
              "      <td>58</td>\n",
              "      <td>Male</td>\n",
              "      <td>1.0</td>\n",
              "      <td>0.4</td>\n",
              "      <td>182</td>\n",
              "      <td>14</td>\n",
              "      <td>20</td>\n",
              "      <td>6.8</td>\n",
              "      <td>3.4</td>\n",
              "      <td>1.00</td>\n",
              "      <td>1</td>\n",
              "    </tr>\n",
              "  </tbody>\n",
              "</table>\n",
              "</div>"
            ],
            "text/plain": [
              "   Age Gender  ...  Albumin_and_Globulin_Ratio  Liver_Problem\n",
              "1   62   Male  ...                        0.74              1\n",
              "2   62   Male  ...                        0.89              1\n",
              "3   58   Male  ...                        1.00              1\n",
              "\n",
              "[3 rows x 11 columns]"
            ]
          },
          "metadata": {},
          "execution_count": 17
        }
      ]
    },
    {
      "cell_type": "code",
      "metadata": {
        "colab": {
          "base_uri": "https://localhost:8080/",
          "height": 300
        },
        "id": "hiKWqDebb4cx",
        "outputId": "57b33aae-ab84-4e3e-a3e7-76e9f641630c"
      },
      "source": [
        "data.describe()"
      ],
      "execution_count": 18,
      "outputs": [
        {
          "output_type": "execute_result",
          "data": {
            "text/html": [
              "<div>\n",
              "<style scoped>\n",
              "    .dataframe tbody tr th:only-of-type {\n",
              "        vertical-align: middle;\n",
              "    }\n",
              "\n",
              "    .dataframe tbody tr th {\n",
              "        vertical-align: top;\n",
              "    }\n",
              "\n",
              "    .dataframe thead th {\n",
              "        text-align: right;\n",
              "    }\n",
              "</style>\n",
              "<table border=\"1\" class=\"dataframe\">\n",
              "  <thead>\n",
              "    <tr style=\"text-align: right;\">\n",
              "      <th></th>\n",
              "      <th>Age</th>\n",
              "      <th>Total_Bilirubin</th>\n",
              "      <th>Direct_Bilirubin</th>\n",
              "      <th>Alkaline_Phosphotase</th>\n",
              "      <th>Alamine_Aminotransferase</th>\n",
              "      <th>Aspartate_Aminotransferase</th>\n",
              "      <th>Total_Protiens</th>\n",
              "      <th>Albumin</th>\n",
              "      <th>Albumin_and_Globulin_Ratio</th>\n",
              "      <th>Liver_Problem</th>\n",
              "    </tr>\n",
              "  </thead>\n",
              "  <tbody>\n",
              "    <tr>\n",
              "      <th>count</th>\n",
              "      <td>500.0000</td>\n",
              "      <td>500.000000</td>\n",
              "      <td>500.000000</td>\n",
              "      <td>500.000000</td>\n",
              "      <td>500.000000</td>\n",
              "      <td>500.000000</td>\n",
              "      <td>500.00000</td>\n",
              "      <td>500.000000</td>\n",
              "      <td>500.000000</td>\n",
              "      <td>500.000000</td>\n",
              "    </tr>\n",
              "    <tr>\n",
              "      <th>mean</th>\n",
              "      <td>44.5860</td>\n",
              "      <td>2.603800</td>\n",
              "      <td>1.117200</td>\n",
              "      <td>296.372000</td>\n",
              "      <td>82.736000</td>\n",
              "      <td>108.820000</td>\n",
              "      <td>6.44480</td>\n",
              "      <td>3.168800</td>\n",
              "      <td>0.960907</td>\n",
              "      <td>1.300000</td>\n",
              "    </tr>\n",
              "    <tr>\n",
              "      <th>std</th>\n",
              "      <td>16.5334</td>\n",
              "      <td>5.120238</td>\n",
              "      <td>2.066709</td>\n",
              "      <td>257.461676</td>\n",
              "      <td>194.366775</td>\n",
              "      <td>307.093557</td>\n",
              "      <td>1.08902</td>\n",
              "      <td>0.799741</td>\n",
              "      <td>0.293107</td>\n",
              "      <td>0.458717</td>\n",
              "    </tr>\n",
              "    <tr>\n",
              "      <th>min</th>\n",
              "      <td>4.0000</td>\n",
              "      <td>0.400000</td>\n",
              "      <td>0.100000</td>\n",
              "      <td>63.000000</td>\n",
              "      <td>10.000000</td>\n",
              "      <td>10.000000</td>\n",
              "      <td>2.70000</td>\n",
              "      <td>0.900000</td>\n",
              "      <td>0.300000</td>\n",
              "      <td>1.000000</td>\n",
              "    </tr>\n",
              "    <tr>\n",
              "      <th>25%</th>\n",
              "      <td>32.7500</td>\n",
              "      <td>0.800000</td>\n",
              "      <td>0.200000</td>\n",
              "      <td>175.000000</td>\n",
              "      <td>23.000000</td>\n",
              "      <td>24.750000</td>\n",
              "      <td>5.70000</td>\n",
              "      <td>2.600000</td>\n",
              "      <td>0.800000</td>\n",
              "      <td>1.000000</td>\n",
              "    </tr>\n",
              "    <tr>\n",
              "      <th>50%</th>\n",
              "      <td>45.0000</td>\n",
              "      <td>0.900000</td>\n",
              "      <td>0.300000</td>\n",
              "      <td>205.500000</td>\n",
              "      <td>33.500000</td>\n",
              "      <td>40.000000</td>\n",
              "      <td>6.50000</td>\n",
              "      <td>3.100000</td>\n",
              "      <td>1.000000</td>\n",
              "      <td>1.000000</td>\n",
              "    </tr>\n",
              "    <tr>\n",
              "      <th>75%</th>\n",
              "      <td>58.0000</td>\n",
              "      <td>2.200000</td>\n",
              "      <td>1.000000</td>\n",
              "      <td>298.000000</td>\n",
              "      <td>59.250000</td>\n",
              "      <td>79.250000</td>\n",
              "      <td>7.20000</td>\n",
              "      <td>3.800000</td>\n",
              "      <td>1.100000</td>\n",
              "      <td>2.000000</td>\n",
              "    </tr>\n",
              "    <tr>\n",
              "      <th>max</th>\n",
              "      <td>85.0000</td>\n",
              "      <td>75.000000</td>\n",
              "      <td>14.200000</td>\n",
              "      <td>2110.000000</td>\n",
              "      <td>2000.000000</td>\n",
              "      <td>4929.000000</td>\n",
              "      <td>9.60000</td>\n",
              "      <td>5.500000</td>\n",
              "      <td>1.900000</td>\n",
              "      <td>2.000000</td>\n",
              "    </tr>\n",
              "  </tbody>\n",
              "</table>\n",
              "</div>"
            ],
            "text/plain": [
              "            Age  Total_Bilirubin  ...  Albumin_and_Globulin_Ratio  Liver_Problem\n",
              "count  500.0000       500.000000  ...                  500.000000     500.000000\n",
              "mean    44.5860         2.603800  ...                    0.960907       1.300000\n",
              "std     16.5334         5.120238  ...                    0.293107       0.458717\n",
              "min      4.0000         0.400000  ...                    0.300000       1.000000\n",
              "25%     32.7500         0.800000  ...                    0.800000       1.000000\n",
              "50%     45.0000         0.900000  ...                    1.000000       1.000000\n",
              "75%     58.0000         2.200000  ...                    1.100000       2.000000\n",
              "max     85.0000        75.000000  ...                    1.900000       2.000000\n",
              "\n",
              "[8 rows x 10 columns]"
            ]
          },
          "metadata": {},
          "execution_count": 18
        }
      ]
    }
  ]
}