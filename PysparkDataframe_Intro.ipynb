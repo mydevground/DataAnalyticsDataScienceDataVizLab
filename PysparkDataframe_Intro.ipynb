{
  "nbformat": 4,
  "nbformat_minor": 0,
  "metadata": {
    "colab": {
      "name": " PysparkDataframe_Intro.ipynb",
      "provenance": [],
      "authorship_tag": "ABX9TyOdkOWL6Ckuy8ZvqTHeRgMA",
      "include_colab_link": true
    },
    "kernelspec": {
      "name": "python3",
      "display_name": "Python 3"
    },
    "language_info": {
      "name": "python"
    }
  },
  "cells": [
    {
      "cell_type": "markdown",
      "metadata": {
        "id": "view-in-github",
        "colab_type": "text"
      },
      "source": [
        "<a href=\"https://colab.research.google.com/github/mydevground/DataScienceLab/blob/main/PysparkDataframe_Intro.ipynb\" target=\"_parent\"><img src=\"https://colab.research.google.com/assets/colab-badge.svg\" alt=\"Open In Colab\"/></a>"
      ]
    },
    {
      "cell_type": "markdown",
      "metadata": {
        "id": "b049e2ukRf6s"
      },
      "source": [
        "\n",
        "Action list:\n",
        "\n",
        "1.   Checking the Datatypes of the Column(Schema)\n",
        "2.   Selecting Columns And Indexing\n",
        "3.   Check Describe option similar to Pandas\n",
        "4.   Adding Columns\n",
        "5.   Dropping columns\n",
        "6.   Renaming Columns\n",
        "\n",
        "\n",
        "\n",
        "\n",
        "\n",
        "\n",
        "\n"
      ]
    },
    {
      "cell_type": "code",
      "metadata": {
        "colab": {
          "base_uri": "https://localhost:8080/"
        },
        "id": "a1MRojZ_SRaW",
        "outputId": "53b8cbb3-16e4-46cb-ff3d-5bf63f79141d"
      },
      "source": [
        "!pip install pyspark"
      ],
      "execution_count": 2,
      "outputs": [
        {
          "output_type": "stream",
          "name": "stdout",
          "text": [
            "Collecting pyspark\n",
            "  Downloading pyspark-3.1.2.tar.gz (212.4 MB)\n",
            "\u001b[K     |████████████████████████████████| 212.4 MB 64 kB/s \n",
            "\u001b[?25hCollecting py4j==0.10.9\n",
            "  Downloading py4j-0.10.9-py2.py3-none-any.whl (198 kB)\n",
            "\u001b[K     |████████████████████████████████| 198 kB 53.9 MB/s \n",
            "\u001b[?25hBuilding wheels for collected packages: pyspark\n",
            "  Building wheel for pyspark (setup.py) ... \u001b[?25l\u001b[?25hdone\n",
            "  Created wheel for pyspark: filename=pyspark-3.1.2-py2.py3-none-any.whl size=212880768 sha256=16f25b9c7903ffb12a1b6751d8da3eed3f2a1af80416797e02e6be37c4bdcfba\n",
            "  Stored in directory: /root/.cache/pip/wheels/a5/0a/c1/9561f6fecb759579a7d863dcd846daaa95f598744e71b02c77\n",
            "Successfully built pyspark\n",
            "Installing collected packages: py4j, pyspark\n",
            "Successfully installed py4j-0.10.9 pyspark-3.1.2\n"
          ]
        }
      ]
    },
    {
      "cell_type": "code",
      "metadata": {
        "id": "cB-9gEpLSY0Z"
      },
      "source": [
        "from pyspark.sql import SparkSession"
      ],
      "execution_count": 3,
      "outputs": []
    },
    {
      "cell_type": "code",
      "metadata": {
        "id": "6bHLnL0xSwtm"
      },
      "source": [
        "spark=SparkSession.builder.appName('Dataframe').getOrCreate()"
      ],
      "execution_count": 4,
      "outputs": []
    },
    {
      "cell_type": "code",
      "metadata": {
        "colab": {
          "base_uri": "https://localhost:8080/",
          "height": 219
        },
        "id": "NjNEligOSw3h",
        "outputId": "a11f80f0-3380-45d0-9f30-543d1a034867"
      },
      "source": [
        "spark"
      ],
      "execution_count": 5,
      "outputs": [
        {
          "output_type": "execute_result",
          "data": {
            "text/html": [
              "\n",
              "            <div>\n",
              "                <p><b>SparkSession - in-memory</b></p>\n",
              "                \n",
              "        <div>\n",
              "            <p><b>SparkContext</b></p>\n",
              "\n",
              "            <p><a href=\"http://9db53423e681:4040\">Spark UI</a></p>\n",
              "\n",
              "            <dl>\n",
              "              <dt>Version</dt>\n",
              "                <dd><code>v3.1.2</code></dd>\n",
              "              <dt>Master</dt>\n",
              "                <dd><code>local[*]</code></dd>\n",
              "              <dt>AppName</dt>\n",
              "                <dd><code>Dataframe</code></dd>\n",
              "            </dl>\n",
              "        </div>\n",
              "        \n",
              "            </div>\n",
              "        "
            ],
            "text/plain": [
              "<pyspark.sql.session.SparkSession at 0x7f32f7965410>"
            ]
          },
          "metadata": {},
          "execution_count": 5
        }
      ]
    },
    {
      "cell_type": "code",
      "metadata": {
        "id": "dRWguGctSxBu"
      },
      "source": [
        "## read the dataset\n",
        "df_pyspark=spark.read.option('header','true').csv('sample_data/test1.csv',inferSchema=True)"
      ],
      "execution_count": 15,
      "outputs": []
    },
    {
      "cell_type": "code",
      "metadata": {
        "colab": {
          "base_uri": "https://localhost:8080/"
        },
        "id": "72aC1Fu6SxLX",
        "outputId": "a85b68d0-7741-4d51-aa65-bcb9ba2e9d60"
      },
      "source": [
        "### Check the schema\n",
        "df_pyspark.printSchema()"
      ],
      "execution_count": 16,
      "outputs": [
        {
          "output_type": "stream",
          "name": "stdout",
          "text": [
            "root\n",
            " |-- Name: string (nullable = true)\n",
            " |-- age: integer (nullable = true)\n",
            " |-- Experience: integer (nullable = true)\n",
            " |-- Salary: integer (nullable = true)\n",
            "\n"
          ]
        }
      ]
    },
    {
      "cell_type": "code",
      "metadata": {
        "colab": {
          "base_uri": "https://localhost:8080/"
        },
        "id": "eXzAGnbjSxUl",
        "outputId": "5026588c-53fc-4abc-e9d6-dc2c52d21951"
      },
      "source": [
        "df_pyspark=spark.read.csv('sample_data/test1.csv',header=True,inferSchema=True)\n",
        "df_pyspark.show()"
      ],
      "execution_count": 17,
      "outputs": [
        {
          "output_type": "stream",
          "name": "stdout",
          "text": [
            "+-----+---+----------+------+\n",
            "| Name|age|Experience|Salary|\n",
            "+-----+---+----------+------+\n",
            "|Brown| 31|        10| 30000|\n",
            "|Kenny| 28|         8| 28000|\n",
            "|Sunny| 29|         4| 26000|\n",
            "| Bola| 24|         3| 24000|\n",
            "| Joke| 27|         1| 15000|\n",
            "|Hakim| 23|         2| 19000|\n",
            "+-----+---+----------+------+\n",
            "\n"
          ]
        }
      ]
    },
    {
      "cell_type": "code",
      "metadata": {
        "colab": {
          "base_uri": "https://localhost:8080/"
        },
        "id": "gcB1oxviTDON",
        "outputId": "c5db40f5-4d06-477c-eb4c-822106826520"
      },
      "source": [
        "### Check the schema\n",
        "df_pyspark.printSchema()"
      ],
      "execution_count": 18,
      "outputs": [
        {
          "output_type": "stream",
          "name": "stdout",
          "text": [
            "root\n",
            " |-- Name: string (nullable = true)\n",
            " |-- age: integer (nullable = true)\n",
            " |-- Experience: integer (nullable = true)\n",
            " |-- Salary: integer (nullable = true)\n",
            "\n"
          ]
        }
      ]
    },
    {
      "cell_type": "code",
      "metadata": {
        "colab": {
          "base_uri": "https://localhost:8080/"
        },
        "id": "rgy_fAXCTHD0",
        "outputId": "380df091-d2d3-40c7-c90b-8a0cf9d6aa94"
      },
      "source": [
        "type(df_pyspark)"
      ],
      "execution_count": 20,
      "outputs": [
        {
          "output_type": "execute_result",
          "data": {
            "text/plain": [
              "pyspark.sql.dataframe.DataFrame"
            ]
          },
          "metadata": {},
          "execution_count": 20
        }
      ]
    },
    {
      "cell_type": "code",
      "metadata": {
        "colab": {
          "base_uri": "https://localhost:8080/"
        },
        "id": "Cjx2KumJTHJs",
        "outputId": "1b96b755-9aab-47a8-8b88-a3aff11ed524"
      },
      "source": [
        "df_pyspark.head(3)"
      ],
      "execution_count": 21,
      "outputs": [
        {
          "output_type": "execute_result",
          "data": {
            "text/plain": [
              "[Row(Name='Brown', age=31, Experience=10, Salary=30000),\n",
              " Row(Name='Kenny', age=28, Experience=8, Salary=28000),\n",
              " Row(Name='Sunny', age=29, Experience=4, Salary=26000)]"
            ]
          },
          "metadata": {},
          "execution_count": 21
        }
      ]
    },
    {
      "cell_type": "code",
      "metadata": {
        "colab": {
          "base_uri": "https://localhost:8080/"
        },
        "id": "rcJ0UwLeTHPD",
        "outputId": "2193f397-34d2-4ec6-b3ce-874b974dfc5e"
      },
      "source": [
        "df_pyspark.show()"
      ],
      "execution_count": 22,
      "outputs": [
        {
          "output_type": "stream",
          "name": "stdout",
          "text": [
            "+-----+---+----------+------+\n",
            "| Name|age|Experience|Salary|\n",
            "+-----+---+----------+------+\n",
            "|Brown| 31|        10| 30000|\n",
            "|Kenny| 28|         8| 28000|\n",
            "|Sunny| 29|         4| 26000|\n",
            "| Bola| 24|         3| 24000|\n",
            "| Joke| 27|         1| 15000|\n",
            "|Hakim| 23|         2| 19000|\n",
            "+-----+---+----------+------+\n",
            "\n"
          ]
        }
      ]
    },
    {
      "cell_type": "code",
      "metadata": {
        "colab": {
          "base_uri": "https://localhost:8080/"
        },
        "id": "pE-F2nlgTPHy",
        "outputId": "8e643cb3-0762-41ad-f515-4b8f5f0ce720"
      },
      "source": [
        "df_pyspark.select(['Name','Experience']).show()"
      ],
      "execution_count": 23,
      "outputs": [
        {
          "output_type": "stream",
          "name": "stdout",
          "text": [
            "+-----+----------+\n",
            "| Name|Experience|\n",
            "+-----+----------+\n",
            "|Brown|        10|\n",
            "|Kenny|         8|\n",
            "|Sunny|         4|\n",
            "| Bola|         3|\n",
            "| Joke|         1|\n",
            "|Hakim|         2|\n",
            "+-----+----------+\n",
            "\n"
          ]
        }
      ]
    },
    {
      "cell_type": "code",
      "metadata": {
        "colab": {
          "base_uri": "https://localhost:8080/"
        },
        "id": "zjWgLnviTPLr",
        "outputId": "70b04aea-dbf7-4bdc-eb1a-056598068997"
      },
      "source": [
        "df_pyspark['Name']"
      ],
      "execution_count": 24,
      "outputs": [
        {
          "output_type": "execute_result",
          "data": {
            "text/plain": [
              "Column<'Name'>"
            ]
          },
          "metadata": {},
          "execution_count": 24
        }
      ]
    },
    {
      "cell_type": "code",
      "metadata": {
        "colab": {
          "base_uri": "https://localhost:8080/"
        },
        "id": "bzRf1MTGTSvf",
        "outputId": "a520ec13-03a4-427b-e949-854beec25efa"
      },
      "source": [
        "df_pyspark.dtypes"
      ],
      "execution_count": 25,
      "outputs": [
        {
          "output_type": "execute_result",
          "data": {
            "text/plain": [
              "[('Name', 'string'), ('age', 'int'), ('Experience', 'int'), ('Salary', 'int')]"
            ]
          },
          "metadata": {},
          "execution_count": 25
        }
      ]
    },
    {
      "cell_type": "code",
      "metadata": {
        "colab": {
          "base_uri": "https://localhost:8080/"
        },
        "id": "2xDjoBkvTSyo",
        "outputId": "b5837369-9e8e-4047-8171-236c3a20d9f8"
      },
      "source": [
        "df_pyspark.describe().show()"
      ],
      "execution_count": 26,
      "outputs": [
        {
          "output_type": "stream",
          "name": "stdout",
          "text": [
            "+-------+-----+----------------+-----------------+------------------+\n",
            "|summary| Name|             age|       Experience|            Salary|\n",
            "+-------+-----+----------------+-----------------+------------------+\n",
            "|  count|    6|               6|                6|                 6|\n",
            "|   mean| null|            27.0|4.666666666666667|23666.666666666668|\n",
            "| stddev| null|3.03315017762062|3.559026084010437| 5680.375574437545|\n",
            "|    min| Bola|              23|                1|             15000|\n",
            "|    max|Sunny|              31|               10|             30000|\n",
            "+-------+-----+----------------+-----------------+------------------+\n",
            "\n"
          ]
        }
      ]
    },
    {
      "cell_type": "code",
      "metadata": {
        "id": "LcWm5_ZMTS1d"
      },
      "source": [
        "### Adding Columns in data frame\n",
        "df_pyspark=df_pyspark.withColumn('Experience After 2 year',df_pyspark['Experience']+2)"
      ],
      "execution_count": 27,
      "outputs": []
    },
    {
      "cell_type": "code",
      "metadata": {
        "colab": {
          "base_uri": "https://localhost:8080/"
        },
        "id": "UVDcHXodTd01",
        "outputId": "d226ac49-e50b-433f-ca10-1c0826d48b7c"
      },
      "source": [
        "df_pyspark.show()"
      ],
      "execution_count": 28,
      "outputs": [
        {
          "output_type": "stream",
          "name": "stdout",
          "text": [
            "+-----+---+----------+------+-----------------------+\n",
            "| Name|age|Experience|Salary|Experience After 2 year|\n",
            "+-----+---+----------+------+-----------------------+\n",
            "|Brown| 31|        10| 30000|                     12|\n",
            "|Kenny| 28|         8| 28000|                     10|\n",
            "|Sunny| 29|         4| 26000|                      6|\n",
            "| Bola| 24|         3| 24000|                      5|\n",
            "| Joke| 27|         1| 15000|                      3|\n",
            "|Hakim| 23|         2| 19000|                      4|\n",
            "+-----+---+----------+------+-----------------------+\n",
            "\n"
          ]
        }
      ]
    },
    {
      "cell_type": "code",
      "metadata": {
        "colab": {
          "base_uri": "https://localhost:8080/"
        },
        "id": "DPM9rSnvTiWC",
        "outputId": "f7920480-3412-4df7-fcb7-fee7b0c56c8c"
      },
      "source": [
        "### Rename the columns\n",
        "df_pyspark.withColumnRenamed('Name','New Name').show()"
      ],
      "execution_count": 29,
      "outputs": [
        {
          "output_type": "stream",
          "name": "stdout",
          "text": [
            "+--------+---+----------+------+-----------------------+\n",
            "|New Name|age|Experience|Salary|Experience After 2 year|\n",
            "+--------+---+----------+------+-----------------------+\n",
            "|   Brown| 31|        10| 30000|                     12|\n",
            "|   Kenny| 28|         8| 28000|                     10|\n",
            "|   Sunny| 29|         4| 26000|                      6|\n",
            "|    Bola| 24|         3| 24000|                      5|\n",
            "|    Joke| 27|         1| 15000|                      3|\n",
            "|   Hakim| 23|         2| 19000|                      4|\n",
            "+--------+---+----------+------+-----------------------+\n",
            "\n"
          ]
        }
      ]
    }
  ]
}